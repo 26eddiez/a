{
 "cells": [
  {
   "cell_type": "code",
   "execution_count": 2,
   "metadata": {},
   "outputs": [
    {
     "name": "stderr",
     "output_type": "stream",
     "text": [
      "2023-11-14 23:01:10.769155: I tensorflow/core/platform/cpu_feature_guard.cc:182] This TensorFlow binary is optimized to use available CPU instructions in performance-critical operations.\n",
      "To enable the following instructions: AVX2 FMA, in other operations, rebuild TensorFlow with the appropriate compiler flags.\n"
     ]
    }
   ],
   "source": [
    "from pyexpat import model\n",
    "from sklearn.preprocessing import LabelBinarizer\n",
    "from sklearn.preprocessing import MinMaxScaler\n",
    "import pandas as pd\n",
    "import numpy as np\n",
    "import glob\n",
    "import cv2\n",
    "import os\n",
    "import locale\n",
    "import tensorflow as tf\n",
    "from tensorflow import keras\n",
    "from tensorflow.keras import layers\n",
    "from tensorflow.keras.models import Sequential\n",
    "from tensorflow.keras.layers import BatchNormalization\n",
    "from tensorflow.keras.layers import Conv2D\n",
    "from tensorflow.keras.layers import MaxPooling2D\n",
    "from tensorflow.keras.layers import Activation\n",
    "from tensorflow.keras.layers import Dropout\n",
    "from tensorflow.keras.layers import Dense\n",
    "from tensorflow.keras.layers import Flatten\n",
    "from tensorflow.keras.layers import Input\n",
    "from tensorflow.keras.models import Model\n",
    "from sklearn.model_selection import train_test_split\n",
    "from tensorflow.keras.layers import Dense\n",
    "from tensorflow.keras.models import Model\n",
    "from tensorflow.keras.optimizers import Adam\n",
    "from tensorflow.keras.layers import concatenate\n",
    "from tensorflow.keras.metrics import Precision, Recall, BinaryAccuracy\n",
    "from keras.preprocessing.image import ImageDataGenerator\n",
    "from sklearn import preprocessing\n",
    "import locale\n",
    "from matplotlib import pyplot as plt\n",
    "import matplotlib.image as mpimg\n",
    "from IPython.display import display\n",
    "from sklearn.metrics import precision_score\n",
    "from sklearn.metrics import recall_score\n",
    "from sklearn.metrics import f1_score\n",
    "from sklearn.metrics import confusion_matrix\n",
    "import seaborn as sns"
   ]
  },
  {
   "cell_type": "code",
   "execution_count": 18,
   "metadata": {},
   "outputs": [],
   "source": [
    "def create_cnn(width, height, depth, filters=(16, 32, 64)):\n",
    "    model = Sequential()\n",
    "    model.add(Conv2D(64,kernel_size=(3,3), activation = 'relu', input_shape = (320,320,9), kernel_regularizer = 'l2'))\n",
    "    model.add(MaxPooling2D(pool_size = 2, strides = 2))\n",
    "    model.add(Conv2D(32,kernel_size=(3,3),activation = 'relu'))\n",
    "    model.add(MaxPooling2D(pool_size = 2, strides = 2))\n",
    "    model.add(Conv2D(16,kernel_size=(3,3),activation = 'relu'))\n",
    "    model.add(MaxPooling2D(pool_size = 2, strides = 2))\n",
    "    model.add(Dropout(0.25))\n",
    "    model.add(Flatten())\n",
    "    model.add(Dense(8,activation = 'relu'))\n",
    "    model.add(Dense(4,activation = 'relu'))\n",
    "    return model"
   ]
  },
  {
   "cell_type": "code",
   "execution_count": 19,
   "metadata": {},
   "outputs": [],
   "source": [
    "def create_mlp(dim):\n",
    "\t# define our MLP network\n",
    "  model = Sequential()\n",
    "  model.add(Dense(128, activation = 'relu', input_shape=(dim,),kernel_regularizer = 'l2'))\n",
    "  model.add(Dense(64, activation = 'relu'))\n",
    "  model.add(Dense(16, activation = 'relu'))\n",
    "  return model"
   ]
  },
  {
   "cell_type": "code",
   "execution_count": 20,
   "metadata": {},
   "outputs": [
    {
     "name": "stdout",
     "output_type": "stream",
     "text": [
      "1000\n"
     ]
    }
   ],
   "source": [
    "gasdata = pd.read_csv(\"/Users/wzhang/Documents/data5.csv\")\n",
    "data_dir = '/Users/wzhang/Downloads/Data5'\n",
    "imagedata = sorted(os.listdir(data_dir))\n",
    "print(len(imagedata))\n",
    "X_data = []\n",
    "for image in imagedata:\n",
    "        img = mpimg.imread('/Users/wzhang/Downloads/Data5/'+image)\n",
    "        img = img.reshape(320,320,9)\n",
    "        img = img/255.0\n",
    "        X_data.append(img)\n",
    "images = np.array(X_data)\n"
   ]
  },
  {
   "cell_type": "code",
   "execution_count": 21,
   "metadata": {},
   "outputs": [
    {
     "name": "stdout",
     "output_type": "stream",
     "text": [
      "          MQ2       MQ7\n",
      "623  0.821114  0.205279\n",
      "750  0.929619  0.800587\n",
      "996  0.953079  0.771261\n",
      "349  0.900293  0.785924\n",
      "261  0.882698  0.715543\n",
      "..        ...       ...\n",
      "630  0.810850  0.000000\n",
      "69   0.891496  0.673021\n",
      "942  0.939883  0.756598\n",
      "9    0.926686  0.740469\n",
      "436  0.787390  0.551320\n",
      "\n",
      "[800 rows x 2 columns]\n",
      "623    1\n",
      "750    1\n",
      "996    1\n",
      "349    0\n",
      "261    0\n",
      "      ..\n",
      "630    1\n",
      "69     0\n",
      "942    1\n",
      "9      0\n",
      "436    0\n",
      "Name: Gas, Length: 800, dtype: int64\n"
     ]
    }
   ],
   "source": [
    "split = train_test_split(gasdata, images, test_size=0.2)\n",
    "(trainAttrX, testAttrX, trainImagesX, testImagesX) = split\n",
    "trainy = trainAttrX[\"Gas\"]\n",
    "testy = testAttrX[\"Gas\"]\n",
    "trainAttrX = trainAttrX.drop(columns=['Gas'])\n",
    "testAttrX = testAttrX.drop(columns = ['Gas'])\n",
    "trainAttrX= (trainAttrX - np.min(trainAttrX)) / (np.max(trainAttrX) - np.min(trainAttrX))\n",
    "testAttrX = (testAttrX - np.min(testAttrX)) / (np.max(testAttrX) - np.min(testAttrX))\n",
    "print(trainAttrX)\n",
    "print(trainy)\n"
   ]
  },
  {
   "cell_type": "code",
   "execution_count": 22,
   "metadata": {},
   "outputs": [
    {
     "name": "stdout",
     "output_type": "stream",
     "text": [
      "KerasTensor(type_spec=TensorSpec(shape=(None, 16), dtype=tf.float32, name=None), name='dense_11/Relu:0', description=\"created by layer 'dense_11'\")\n",
      "KerasTensor(type_spec=TensorSpec(shape=(None, 4), dtype=tf.float32, name=None), name='dense_13/Relu:0', description=\"created by layer 'dense_13'\")\n"
     ]
    }
   ],
   "source": [
    "mlp = create_mlp(trainAttrX.shape[1])\n",
    "cnn = create_cnn(320, 320, 9)\n",
    "combinedInput = concatenate([mlp.output, cnn.output])\n",
    "print(mlp.output)\n",
    "print(cnn.output)"
   ]
  },
  {
   "cell_type": "code",
   "execution_count": 23,
   "metadata": {},
   "outputs": [],
   "source": [
    "x = Dense(8, activation=\"relu\")(combinedInput)\n",
    "x = Dense(1, activation = \"sigmoid\")(x)"
   ]
  },
  {
   "cell_type": "code",
   "execution_count": 24,
   "metadata": {},
   "outputs": [],
   "source": [
    "model = Model(inputs=[mlp.input, cnn.input],outputs = x)\n"
   ]
  },
  {
   "cell_type": "code",
   "execution_count": 25,
   "metadata": {},
   "outputs": [],
   "source": [
    "model.compile(optimizer = tf.keras.optimizers.Adam(learning_rate = 0.0001), loss=tf.losses.BinaryCrossentropy(),metrics = ['accuracy']) \n",
    "print(model.summary)\n"
   ]
  },
  {
   "cell_type": "code",
   "execution_count": 26,
   "metadata": {},
   "outputs": [
    {
     "name": "stdout",
     "output_type": "stream",
     "text": [
      "Epoch 1/10\n",
      "25/25 [==============================] - 246s 9s/step - loss: 0.8832 - accuracy: 0.5225 - val_loss: 0.8753 - val_accuracy: 0.5900\n",
      "Epoch 2/10\n",
      " 9/25 [=========>....................] - ETA: 1:58 - loss: 0.8723 - accuracy: 0.6354"
     ]
    }
   ],
   "source": [
    "hist = model.fit(x=[trainAttrX, trainImagesX], y=trainy,validation_data=([testAttrX, testImagesX], testy),epochs=10)\n"
   ]
  },
  {
   "cell_type": "code",
   "execution_count": null,
   "metadata": {},
   "outputs": [],
   "source": [
    "print(hist.history)\n"
   ]
  },
  {
   "cell_type": "code",
   "execution_count": null,
   "metadata": {},
   "outputs": [],
   "source": [
    "fig = plt.figure()\n",
    "plt.plot(hist.history['loss'], color = 'teal', label = 'loss')\n",
    "plt.plot(hist.history['val_loss'], color = 'orange', label = 'val_loss')\n",
    "fig.suptitle('Loss', fontsize = 20)\n",
    "plt.legend(loc = \"upper left\")\n",
    "plt.show()"
   ]
  },
  {
   "cell_type": "code",
   "execution_count": null,
   "metadata": {},
   "outputs": [],
   "source": [
    "fig2 = plt.figure()\n",
    "plt.plot(hist.history['accuracy'], color = 'teal', label = 'accuracy')\n",
    "plt.plot(hist.history['val_accuracy'], color = 'orange', label = 'accuracy')\n",
    "fig2.suptitle('Accuracy', fontsize = 20)\n",
    "plt.legend(loc = \"upper left\")\n",
    "plt.show()"
   ]
  },
  {
   "cell_type": "code",
   "execution_count": null,
   "metadata": {},
   "outputs": [],
   "source": [
    "accuracy = model.evaluate([testAttrX, testImagesX],testy)\n",
    "print(accuracy)\n",
    "performance = model.predict([testAttrX,testImagesX])\n",
    "actual = []\n",
    "for value in performance: \n",
    "    if(value>=0.5):\n",
    "         actual.append(1)\n",
    "    else:\n",
    "        actual.append(0)\n",
    "precision = precision_score(testy, actual)\n",
    "print('Precision: %f' % precision)\n",
    "recall = recall_score(testy, actual)\n",
    "print('Recall: %f' % recall)\n",
    "f1 = f1_score(testy, actual)\n",
    "print('F1 score: %f' % f1)"
   ]
  },
  {
   "cell_type": "code",
   "execution_count": null,
   "metadata": {},
   "outputs": [],
   "source": [
    "cm = confusion_matrix(testy, actual)\n",
    "sns.heatmap(cm, \n",
    "    annot=True,\n",
    "    fmt='g', \n",
    "    xticklabels=['Gas','No Gas'],\n",
    "    yticklabels=['Gas','No Gas'])\n",
    "plt.ylabel('Prediction',fontsize=13)\n",
    "plt.xlabel('Actual',fontsize=13)\n",
    "plt.title('Confusion Matrix',fontsize=17)\n",
    "plt.show()"
   ]
  }
 ],
 "metadata": {
  "interpreter": {
   "hash": "1a1af0ee75eeea9e2e1ee996c87e7a2b11a0bebd85af04bb136d915cefc0abce"
  },
  "kernelspec": {
   "display_name": "Python 3.11.4 64-bit",
   "language": "python",
   "name": "python3"
  },
  "language_info": {
   "codemirror_mode": {
    "name": "ipython",
    "version": 3
   },
   "file_extension": ".py",
   "mimetype": "text/x-python",
   "name": "python",
   "nbconvert_exporter": "python",
   "pygments_lexer": "ipython3",
   "version": "3.11.4"
  },
  "orig_nbformat": 4
 },
 "nbformat": 4,
 "nbformat_minor": 2
}
